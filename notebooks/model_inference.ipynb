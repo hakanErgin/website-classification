{
 "cells": [
  {
   "cell_type": "code",
   "execution_count": 19,
   "metadata": {},
   "outputs": [],
   "source": [
    "import pandas as pd\n",
    "import cv2 as cv\n",
    "from matplotlib import pyplot as plt\n",
    "from matplotlib.pyplot import show\n",
    "import numpy as np\n",
    "from skimage.feature import hog\n",
    "import joblib"
   ]
  },
  {
   "cell_type": "markdown",
   "metadata": {},
   "source": [
    "Feature extraction functions"
   ]
  },
  {
   "cell_type": "code",
   "execution_count": 20,
   "metadata": {},
   "outputs": [],
   "source": [
    "def remove_scrollbar(image, bar_width = 20):\n",
    "    # gets rid of scroll bar so that model wont learn from that and returns the image\n",
    "    y,x,_ = image.shape\n",
    "    img = image[0:y,0:x-bar_width]\n",
    "    return img\n",
    "\n",
    "\n",
    "def extract_features(resized_image, orientations=10, pixels_per_cell=(6,6), cells_per_block=(1, 1)):\n",
    "    # applied on resized image\n",
    "    fd, hog_image = hog(resized_image, orientations=orientations, pixels_per_cell=pixels_per_cell, cells_per_block=cells_per_block, visualize=True, channel_axis=-1)\n",
    "    return fd, hog_image\n",
    "\n",
    "\n",
    "def resize_image(image, new_size = (256, 128)): # size to resize to after future extraction\n",
    "    return cv.resize(image, new_size)\n",
    "\n",
    "\n",
    "def resize_and_get_feature_vector(image):\n",
    "    # returns 1d feature vector to be appended to df\n",
    "    resized_image = resize_image(image)\n",
    "    fd, hog_image = extract_features(resized_image)\n",
    "\n",
    "    return fd"
   ]
  },
  {
   "cell_type": "markdown",
   "metadata": {},
   "source": [
    "Dataset preperation functions"
   ]
  },
  {
   "cell_type": "code",
   "execution_count": 21,
   "metadata": {},
   "outputs": [],
   "source": [
    "def get_fieldnames(n_features = 8820): # with image of size (256, 128) \n",
    "    fieldnames = ['file_name', 'label']\n",
    "    feature_values =  ['x_'+str(i) for i in range(n_features)]\n",
    "    fieldnames += feature_values\n",
    "\n",
    "    return fieldnames\n",
    "\n",
    "def get_row(file_name, label, fd):\n",
    "    new_row = {'file_name': file_name, 'label': label}\n",
    "    for i,px_val in enumerate(fd.flatten()):\n",
    "        new_row['x_'+str(i)] = px_val\n",
    "\n",
    "    return new_row"
   ]
  },
  {
   "cell_type": "code",
   "execution_count": 22,
   "metadata": {},
   "outputs": [
    {
     "data": {
      "text/plain": [
       "Pipeline(steps=[('scaler', StandardScaler()),\n",
       "                ('feature_selection',\n",
       "                 PCA(n_components=150, svd_solver='randomized', whiten=True)),\n",
       "                ('classifier',\n",
       "                 SVC(C=25425.16650996527, class_weight='balanced',\n",
       "                     gamma=0.003479908281039559))])"
      ]
     },
     "execution_count": 22,
     "metadata": {},
     "output_type": "execute_result"
    }
   ],
   "source": [
    "model_path = \"../models/svm_best_pipeline.joblib\"\n",
    "classifier = joblib.load(model_path)\n",
    "classifier"
   ]
  },
  {
   "cell_type": "markdown",
   "metadata": {},
   "source": [
    "Inference"
   ]
  },
  {
   "cell_type": "code",
   "execution_count": 23,
   "metadata": {},
   "outputs": [],
   "source": [
    "def infer_image(image_path):\n",
    "    image = cv.imread(image_path)\n",
    "\n",
    "    # feature extraction\n",
    "    fd = resize_and_get_feature_vector(image)\n",
    "    # 2d array is expected\n",
    "    prediction = classifier.predict(fd.reshape(1,-1))\n",
    "\n",
    "    return prediction[0]"
   ]
  },
  {
   "cell_type": "code",
   "execution_count": 26,
   "metadata": {},
   "outputs": [
    {
     "name": "stdout",
     "output_type": "stream",
     "text": [
      "Inferred website:  amazon\n"
     ]
    },
    {
     "name": "stderr",
     "output_type": "stream",
     "text": [
      "c:\\Users\\Hakan Ergin\\Desktop\\code\\website-classification\\env\\lib\\site-packages\\sklearn\\base.py:451: UserWarning: X does not have valid feature names, but StandardScaler was fitted with feature names\n",
      "  \"X does not have valid feature names, but\"\n"
     ]
    }
   ],
   "source": [
    "file_path = '../test_screenshots/Screenshot (21).png'\n",
    "\n",
    "inference = infer_image(file_path)\n",
    "# the warning comes from the fact that the model is initially trained on a dataset while prediction is made on single value. can be ignored\n",
    "print('Inferred website: ', inference)"
   ]
  }
 ],
 "metadata": {
  "interpreter": {
   "hash": "3da70a31953461e2f18c0d0f8b9b58eff07dfbb354b7dce18fbb209d9e16cd41"
  },
  "kernelspec": {
   "display_name": "Python 3.7.9 ('env': venv)",
   "language": "python",
   "name": "python3"
  },
  "language_info": {
   "codemirror_mode": {
    "name": "ipython",
    "version": 3
   },
   "file_extension": ".py",
   "mimetype": "text/x-python",
   "name": "python",
   "nbconvert_exporter": "python",
   "pygments_lexer": "ipython3",
   "version": "3.7.9"
  },
  "orig_nbformat": 4
 },
 "nbformat": 4,
 "nbformat_minor": 2
}
