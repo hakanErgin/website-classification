{
 "cells": [
  {
   "cell_type": "code",
   "execution_count": 4,
   "metadata": {},
   "outputs": [
    {
     "data": {
      "text/plain": [
       "3278"
      ]
     },
     "execution_count": 4,
     "metadata": {},
     "output_type": "execute_result"
    }
   ],
   "source": [
    "import glob\n",
    "import pandas as pd\n",
    "import cv2\n",
    "\n",
    "# import images for creating dataset\n",
    "ds_path = 'images'\n",
    "images = glob.glob(ds_path + \"/**/*.png\", recursive=True)\n",
    "len(images)"
   ]
  },
  {
   "cell_type": "code",
   "execution_count": 5,
   "metadata": {},
   "outputs": [],
   "source": [
    "# data set preparation\n",
    "img_dict = {\n",
    "    'label': [],\n",
    "    'file_name': [],\n",
    "    'px_values': [],\n",
    "}\n",
    "\n",
    "for image_path in images:\n",
    "    img_dict['label'].append(image_path.split('\\\\')[1])\n",
    "    img_dict['file_name'].append(image_path.split('\\\\')[2])\n",
    "    \n",
    "    image = cv2.imread(image_path)\n",
    "    img_dict['px_values'].append(image)"
   ]
  },
  {
   "cell_type": "code",
   "execution_count": 6,
   "metadata": {},
   "outputs": [],
   "source": [
    "# create data set with only raw_image and labels\n",
    "ds = pd.DataFrame(img_dict)"
   ]
  },
  {
   "cell_type": "code",
   "execution_count": 7,
   "metadata": {},
   "outputs": [],
   "source": [
    "# serialize ds into csv\n",
    "ds.to_csv('img_ds.csv')"
   ]
  },
  {
   "cell_type": "code",
   "execution_count": 8,
   "metadata": {},
   "outputs": [
    {
     "data": {
      "text/plain": [
       "array([(964, 1856, 3)], dtype=object)"
      ]
     },
     "execution_count": 8,
     "metadata": {},
     "output_type": "execute_result"
    }
   ],
   "source": [
    "# verify shape of all images\n",
    "ds.px_values.apply(lambda x:x.shape).unique()"
   ]
  }
 ],
 "metadata": {
  "interpreter": {
   "hash": "e300280ad523744c1cda0d3ae24fb149c01dd51214f2a87476c993f6b3776fbc"
  },
  "kernelspec": {
   "display_name": "Python 3.7.9 ('env': venv)",
   "language": "python",
   "name": "python3"
  },
  "language_info": {
   "codemirror_mode": {
    "name": "ipython",
    "version": 3
   },
   "file_extension": ".py",
   "mimetype": "text/x-python",
   "name": "python",
   "nbconvert_exporter": "python",
   "pygments_lexer": "ipython3",
   "version": "3.7.9"
  },
  "orig_nbformat": 4
 },
 "nbformat": 4,
 "nbformat_minor": 2
}
